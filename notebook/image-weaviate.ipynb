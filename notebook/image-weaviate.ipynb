{
 "cells": [
  {
   "cell_type": "code",
   "execution_count": null,
   "id": "450bfca9-eed5-44b9-b99c-4e1cb27467b3",
   "metadata": {},
   "outputs": [],
   "source": [
    "%pip install -U weaviate-client"
   ]
  },
  {
   "cell_type": "code",
   "execution_count": null,
   "id": "86d37f9d",
   "metadata": {},
   "outputs": [],
   "source": [
    "%pip install pillow"
   ]
  },
  {
   "cell_type": "code",
   "execution_count": null,
   "id": "cbb6a168-663a-47df-be3f-e5cf80fdea5c",
   "metadata": {},
   "outputs": [],
   "source": [
    "import weaviate\n",
    "import os\n",
    "\n",
    "client = weaviate.connect_to_local(\n",
    "    host=\"weaviate\",\n",
    "    headers={\n",
    "        \"X-OpenAI-Api-Key\": os.environ[\"OPENAI_APIKEY\"]  # Replace with your inference API key\n",
    "    }\n",
    ")"
   ]
  },
  {
   "cell_type": "code",
   "execution_count": null,
   "id": "e4ee0b18",
   "metadata": {},
   "outputs": [],
   "source": [
    "from weaviate.classes.config import Configure, Property, DataType"
   ]
  },
  {
   "cell_type": "code",
   "execution_count": null,
   "id": "d0269808-6f3a-4ef7-a823-5b4d0b523f05",
   "metadata": {},
   "outputs": [],
   "source": [
    "class_name = \"Fuga\"\n",
    "client.collections.create(\n",
    "    name=class_name,\n",
    "    description=\"\",\n",
    "    vectorizer_config=Configure.Vectorizer.img2vec_neural(\n",
    "        image_fields=[\"image\"],\n",
    "    ),\n",
    "    vector_index_config=Configure.VectorIndex.hnsw(),\n",
    "    properties=[\n",
    "        Property(name=\"image\", data_type=DataType.BLOB),\n",
    "        Property(name=\"text\", data_type=DataType.TEXT)\n",
    "    ],   \n",
    ")\n",
    "print(\"Schema successfully created..!!\")"
   ]
  },
  {
   "cell_type": "code",
   "execution_count": null,
   "id": "d8b99542",
   "metadata": {},
   "outputs": [],
   "source": [
    "from IPython.display import Image\n",
    "import base64"
   ]
  },
  {
   "cell_type": "code",
   "execution_count": null,
   "id": "e5ec409f",
   "metadata": {},
   "outputs": [],
   "source": [
    "hoge_dir = \"/home/jovyan/data/hoge\"\n",
    "for path in os.listdir(hoge_dir):\n",
    "    display(Image(filename=f\"{hoge_dir}/{path}\"))"
   ]
  },
  {
   "cell_type": "code",
   "execution_count": null,
   "id": "aab803b8",
   "metadata": {},
   "outputs": [],
   "source": [
    "# Upload the image to the database in batches \n",
    "batch_size = 10 # Set your preferred batch size\n",
    "count = 0\n",
    "collection = client.collections.get(class_name)\n",
    "\n",
    "# Add data objects in batches to the client\n",
    "with collection.batch.dynamic() as batch:\n",
    "    for filename in os.listdir(hoge_dir):\n",
    "        if filename.endswith('.png'):\n",
    "            with open(f'{hoge_dir}/{filename}','rb') as img_file:\n",
    "                img_data = img_file.read() \n",
    "\n",
    "                # convert image into base64\n",
    "                base64_img = base64.b64encode(img_data).decode('utf-8') \n",
    "                text,_ = os.path.splitext(filename) \n",
    "                data = {\n",
    "                    'image': base64_img,\n",
    "                    'text': text\n",
    "                }\n",
    "\n",
    "                batch.add_object(\n",
    "                    properties=data,\n",
    "                )\n",
    "                \n",
    "                # Print progress for every batch_size images uploaded\n",
    "                if count % batch_size == 0:\n",
    "                    print(count)\n",
    "                count +=1\n",
    "\n",
    "print(\"Images are uploaded to the database Successfully...!!\")"
   ]
  },
  {
   "cell_type": "code",
   "execution_count": null,
   "id": "4cec72ff",
   "metadata": {},
   "outputs": [],
   "source": [
    "test_img_path = \"/home/jovyan/data/piyo\"\n",
    "for path in os.listdir(test_img_path):\n",
    "    display(Image(filename=f\"{test_img_path}/{path}\"))\n",
    "    print(path)"
   ]
  },
  {
   "cell_type": "code",
   "execution_count": null,
   "id": "6f2c2e7f",
   "metadata": {},
   "outputs": [],
   "source": [
    "from pathlib import Path\n",
    "response = collection.query.near_image(\n",
    "    near_image=Path(test_img_path + \"\"),\n",
    "    return_properties=[\"text\",\"image\"],\n",
    "    limit=3\n",
    ")\n",
    "# display(response.objects[0])"
   ]
  },
  {
   "cell_type": "code",
   "execution_count": null,
   "id": "b270c166",
   "metadata": {},
   "outputs": [],
   "source": [
    "# base64形式の文字列を画像として表示する\n",
    "from PIL import Image as PILImage\n",
    "from io import BytesIO\n",
    "\n",
    "img_data = base64.b64decode(response.objects[0].properties[\"image\"])\n",
    "img = PILImage.open(BytesIO(img_data))\n",
    "img.show()"
   ]
  },
  {
   "cell_type": "code",
   "execution_count": null,
   "id": "ac36336c",
   "metadata": {},
   "outputs": [],
   "source": [
    "img_data = base64.b64decode(response.objects[1].properties[\"image\"])\n",
    "img = PILImage.open(BytesIO(img_data))\n",
    "img.show()"
   ]
  },
  {
   "cell_type": "code",
   "execution_count": null,
   "id": "b7fac227",
   "metadata": {},
   "outputs": [],
   "source": [
    "img_data = base64.b64decode(response.objects[2].properties[\"image\"])\n",
    "img = PILImage.open(BytesIO(img_data))\n",
    "img.show()"
   ]
  },
  {
   "cell_type": "code",
   "execution_count": null,
   "id": "27ef2443",
   "metadata": {},
   "outputs": [],
   "source": []
  }
 ],
 "metadata": {
  "kernelspec": {
   "display_name": "Python 3 (ipykernel)",
   "language": "python",
   "name": "python3"
  },
  "language_info": {
   "codemirror_mode": {
    "name": "ipython",
    "version": 3
   },
   "file_extension": ".py",
   "mimetype": "text/x-python",
   "name": "python",
   "nbconvert_exporter": "python",
   "pygments_lexer": "ipython3",
   "version": "3.11.6"
  }
 },
 "nbformat": 4,
 "nbformat_minor": 5
}
