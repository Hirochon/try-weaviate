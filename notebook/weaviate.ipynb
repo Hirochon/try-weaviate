{
 "cells": [
  {
   "cell_type": "code",
   "execution_count": 1,
   "id": "aaabd804-81d8-4fe4-b106-f95d1b715537",
   "metadata": {},
   "outputs": [],
   "source": [
    "# !pip install -U weaviate-client"
   ]
  },
  {
   "cell_type": "code",
   "execution_count": 2,
   "id": "5c8ffffe",
   "metadata": {},
   "outputs": [],
   "source": [
    "import weaviate\n",
    "import weaviate.classes as wvc\n",
    "import os\n",
    "import requests\n",
    "import json\n",
    "\n",
    "client = weaviate.connect_to_local(\n",
    "    host=\"weaviate\",\n",
    "    headers={\n",
    "        \"X-OpenAI-Api-Key\": os.environ[\"OPENAI_APIKEY\"]  # Replace with your inference API key\n",
    "    }\n",
    ")"
   ]
  },
  {
   "cell_type": "code",
   "execution_count": 3,
   "id": "03adaf25-4133-45e7-b4d4-c0e7207f30fb",
   "metadata": {},
   "outputs": [],
   "source": [
    "# client.connect()\n",
    "# questions = client.collections.create(\n",
    "#     name=\"Question\",\n",
    "#     vectorizer_config=wvc.config.Configure.Vectorizer.text2vec_openai(),  # If set to \"none\" you must always provide vectors yourself. Could be any other \"text2vec-*\" also.\n",
    "#     generative_config=wvc.config.Configure.Generative.openai()  # Ensure the `generative-openai` module is used for generative queries\n",
    "# )"
   ]
  },
  {
   "cell_type": "code",
   "execution_count": 4,
   "id": "fa253456-d644-4e2b-9f33-11e427d1b02e",
   "metadata": {},
   "outputs": [],
   "source": [
    "# resp = requests.get('https://raw.githubusercontent.com/weaviate-tutorials/quickstart/main/data/jeopardy_tiny.json')\n",
    "# data = json.loads(resp.text)  # Load data\n",
    "\n",
    "# question_objs = list()\n",
    "# for i, d in enumerate(data):\n",
    "#     question_objs.append({\n",
    "#         \"answer\": d[\"Answer\"],\n",
    "#         \"question\": d[\"Question\"],\n",
    "#         \"category\": d[\"Category\"],\n",
    "#     })\n",
    "\n",
    "# questions = client.collections.get(\"Question\")\n",
    "# questions.data.insert_many(question_objs)"
   ]
  },
  {
   "cell_type": "code",
   "execution_count": 5,
   "id": "43485d15-0daf-4380-86b0-ec2dedff076f",
   "metadata": {},
   "outputs": [
    {
     "data": {
      "text/plain": [
       "{'answer': 'DNA',\n",
       " 'question': 'In 1953 Watson & Crick built a model of the molecular structure of this, the gene-carrying substance',\n",
       " 'category': 'SCIENCE'}"
      ]
     },
     "metadata": {},
     "output_type": "display_data"
    }
   ],
   "source": [
    "questions = client.collections.get(\"Question\")\n",
    "\n",
    "response = questions.query.near_text(\n",
    "    query=\"biology\",\n",
    "    limit=2\n",
    ")\n",
    "\n",
    "display(response.objects[0].properties)  # Inspect the first object"
   ]
  },
  {
   "cell_type": "code",
   "execution_count": 6,
   "id": "f8c59a26-ad2e-43a8-a6a5-6e05dee4fee3",
   "metadata": {},
   "outputs": [
    {
     "name": "stdout",
     "output_type": "stream",
     "text": [
      "DNA is like a recipe book that tells our bodies how to grow and work. It is made up of tiny instructions that tell our cells what to do and how to make us who we are. Just like how a recipe tells you how to make a cake, DNA tells our bodies how to make us!\n"
     ]
    }
   ],
   "source": [
    "questions = client.collections.get(\"Question\")\n",
    "\n",
    "response = questions.generate.near_text(\n",
    "    query=\"biology\",\n",
    "    limit=2,\n",
    "    single_prompt=\"Explain {answer} as you might to a five-year-old.\"\n",
    ")\n",
    "\n",
    "print(response.objects[0].generated)  # Inspect the generated text"
   ]
  },
  {
   "cell_type": "code",
   "execution_count": 7,
   "id": "46620390-1cdf-4747-b4d0-a6f16d967bbd",
   "metadata": {},
   "outputs": [
    {
     "name": "stdout",
     "output_type": "stream",
     "text": [
      "🧬 In 1953 Watson & Crick built a model of the molecular structure of DNA, the gene-carrying substance! 🧬🔬\n",
      "\n",
      "🦉 2000 news: the Gunnison sage grouse isn't just another northern sage grouse, but a new species of this classification! 🦉🌿 #ScienceFacts #DNA #SpeciesDiscovery\n"
     ]
    }
   ],
   "source": [
    "questions = client.collections.get(\"Question\")\n",
    "\n",
    "response = questions.generate.near_text(\n",
    "    query=\"biology\",\n",
    "    limit=2,\n",
    "    grouped_task=\"Write a tweet with emojis about these facts.\"\n",
    ")\n",
    "\n",
    "print(response.generated)"
   ]
  },
  {
   "cell_type": "code",
   "execution_count": null,
   "id": "d013eec3-f480-40aa-8aa2-b287749be813",
   "metadata": {},
   "outputs": [],
   "source": []
  }
 ],
 "metadata": {
  "kernelspec": {
   "display_name": "Python 3 (ipykernel)",
   "language": "python",
   "name": "python3"
  },
  "language_info": {
   "codemirror_mode": {
    "name": "ipython",
    "version": 3
   },
   "file_extension": ".py",
   "mimetype": "text/x-python",
   "name": "python",
   "nbconvert_exporter": "python",
   "pygments_lexer": "ipython3",
   "version": "3.11.6"
  }
 },
 "nbformat": 4,
 "nbformat_minor": 5
}
